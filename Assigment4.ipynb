{
 "cells": [
  {
   "cell_type": "markdown",
   "id": "f0c6fc7b",
   "metadata": {},
   "source": [
    "1. What exactly is []?"
   ]
  },
  {
   "cell_type": "raw",
   "id": "c55fcd83",
   "metadata": {},
   "source": [
    "  Square bracket in python is list c"
   ]
  },
  {
   "cell_type": "markdown",
   "id": "a456ecba",
   "metadata": {},
   "source": [
    "2. In a list of values stored in a variable called spam, how would you assign the value 'hello' as the third value? (Assume [2, 4, 6, 8, 10] are in spam.)\n",
    "Let's pretend the spam includes the list ['a', 'b', 'c', 'd'] for the next three queries.\n"
   ]
  },
  {
   "cell_type": "code",
   "execution_count": 8,
   "id": "d5013f03",
   "metadata": {},
   "outputs": [
    {
     "data": {
      "text/plain": [
       "[2, 4, 'hello', 8, 10]"
      ]
     },
     "execution_count": 8,
     "metadata": {},
     "output_type": "execute_result"
    }
   ],
   "source": [
    "spam=[2,4,6,8,10]\n",
    "spam[2]=\"hello\"\n",
    "spam"
   ]
  },
  {
   "cell_type": "markdown",
   "id": "e10f9cf4",
   "metadata": {},
   "source": [
    "3. What is the value of spam[int(int('3' * 2) / 11)]?"
   ]
  },
  {
   "cell_type": "code",
   "execution_count": 9,
   "id": "d6454edc",
   "metadata": {},
   "outputs": [
    {
     "data": {
      "text/plain": [
       "'d'"
      ]
     },
     "execution_count": 9,
     "metadata": {},
     "output_type": "execute_result"
    }
   ],
   "source": [
    "spam=['a,','b','c','d']\n",
    "spam[int(int('3'*2)/11)]"
   ]
  },
  {
   "cell_type": "markdown",
   "id": "b8c0408d",
   "metadata": {},
   "source": [
    "4. What is the value of spam[-1]?"
   ]
  },
  {
   "cell_type": "raw",
   "id": "b0bef541",
   "metadata": {},
   "source": [
    "'d'"
   ]
  },
  {
   "cell_type": "markdown",
   "id": "fc0a7cb8",
   "metadata": {},
   "source": [
    "5. What is the value of spam[:2]?"
   ]
  },
  {
   "cell_type": "raw",
   "id": "747f1958",
   "metadata": {},
   "source": [
    "['a,', 'b']"
   ]
  },
  {
   "cell_type": "markdown",
   "id": "634319a9",
   "metadata": {},
   "source": [
    "Let's pretend bacon has the list [3.14, 'cat,' 11, 'cat,' True] for the next three questions."
   ]
  },
  {
   "cell_type": "code",
   "execution_count": 10,
   "id": "0d6120c6",
   "metadata": {},
   "outputs": [],
   "source": [
    "bacon=[3.14, 'cat', 11, 'cat', True]"
   ]
  },
  {
   "cell_type": "markdown",
   "id": "930348e7",
   "metadata": {},
   "source": [
    "6. What is the value of bacon.index('cat')?"
   ]
  },
  {
   "cell_type": "raw",
   "id": "cbe14da7",
   "metadata": {},
   "source": [
    "1"
   ]
  },
  {
   "cell_type": "markdown",
   "id": "6be74498",
   "metadata": {},
   "source": [
    "7. How does bacon.append(99) change the look of the list value in bacon?`"
   ]
  },
  {
   "cell_type": "raw",
   "id": "c97dfc07",
   "metadata": {},
   "source": [
    "[3.14, 'cat', 11, 'cat', True, 99]\n",
    "Add 99 at the end of the list"
   ]
  },
  {
   "cell_type": "markdown",
   "id": "e4aa6cc1",
   "metadata": {},
   "source": [
    "8. How does bacon.remove('cat') change the look of the list in bacon?"
   ]
  },
  {
   "cell_type": "raw",
   "id": "47c5cf1b",
   "metadata": {},
   "source": [
    "[3.14, 11, True, 99]\n",
    "remove the element which we pass in our case cat"
   ]
  },
  {
   "cell_type": "markdown",
   "id": "0b118b95",
   "metadata": {},
   "source": [
    "9. What are the list concatenation and list replication operators?"
   ]
  },
  {
   "cell_type": "markdown",
   "id": "1468ed69",
   "metadata": {},
   "source": [
    " 1]list concatenation allow us to join two or more list to each other([\"a\",\"b\"]+[\"c\",\"d\"]=['a', 'b', 'c', 'd'])\n",
    " 2]list replication repeat same list number of time we want ([\"a\",\"b\"]*2=[\"a\",\"b\",\"a\",\"b\"]) \n"
   ]
  },
  {
   "cell_type": "markdown",
   "id": "fafad239",
   "metadata": {},
   "source": [
    "10. What is difference between the list methods append() and insert()?"
   ]
  },
  {
   "cell_type": "raw",
   "id": "91394ebf",
   "metadata": {},
   "source": [
    "append method adds element at end of list | insert method can add element at any index we want\n"
   ]
  },
  {
   "cell_type": "markdown",
   "id": "beddb78f",
   "metadata": {},
   "source": [
    "11. What are the two methods for removing items from a list?"
   ]
  },
  {
   "cell_type": "raw",
   "id": "6800c0ad",
   "metadata": {},
   "source": [
    "remove(),pop()"
   ]
  },
  {
   "cell_type": "markdown",
   "id": "c1b35b98",
   "metadata": {},
   "source": [
    "12. Describe how list values and string values are identical."
   ]
  },
  {
   "cell_type": "raw",
   "id": "182e1002",
   "metadata": {},
   "source": [
    "list values and string values are identical as they both can be accesed by there index"
   ]
  },
  {
   "cell_type": "markdown",
   "id": "148f3425",
   "metadata": {},
   "source": [
    "13. What's the difference between tuples and lists?"
   ]
  },
  {
   "cell_type": "raw",
   "id": "a8e5b450",
   "metadata": {},
   "source": [
    "major difference is tuples is immutable  where as lists are mutable"
   ]
  },
  {
   "cell_type": "markdown",
   "id": "3ab8994c",
   "metadata": {},
   "source": [
    "14. How do you type a tuple value that only contains the integer 42?"
   ]
  },
  {
   "cell_type": "raw",
   "id": "3e815591",
   "metadata": {},
   "source": [
    "demo=(42,)\n"
   ]
  },
  {
   "cell_type": "markdown",
   "id": "ed050d58",
   "metadata": {},
   "source": [
    "15. How do you get a list value's tuple form? How do you get a tuple value's list form?"
   ]
  },
  {
   "cell_type": "raw",
   "id": "89eafac1",
   "metadata": {},
   "source": [
    "by type casting we can make tuple to list or list to tuple"
   ]
  },
  {
   "cell_type": "code",
   "execution_count": null,
   "id": "372f1d2f",
   "metadata": {},
   "outputs": [],
   "source": []
  },
  {
   "cell_type": "code",
   "execution_count": null,
   "id": "6c41548f",
   "metadata": {},
   "outputs": [],
   "source": []
  },
  {
   "cell_type": "code",
   "execution_count": null,
   "id": "35f964d9",
   "metadata": {},
   "outputs": [],
   "source": []
  },
  {
   "cell_type": "code",
   "execution_count": null,
   "id": "dd0de9aa",
   "metadata": {},
   "outputs": [],
   "source": []
  },
  {
   "cell_type": "code",
   "execution_count": null,
   "id": "73354fd0",
   "metadata": {},
   "outputs": [],
   "source": []
  },
  {
   "cell_type": "code",
   "execution_count": null,
   "id": "76bb8869",
   "metadata": {},
   "outputs": [],
   "source": []
  }
 ],
 "metadata": {
  "kernelspec": {
   "display_name": "Python 3 (ipykernel)",
   "language": "python",
   "name": "python3"
  },
  "language_info": {
   "codemirror_mode": {
    "name": "ipython",
    "version": 3
   },
   "file_extension": ".py",
   "mimetype": "text/x-python",
   "name": "python",
   "nbconvert_exporter": "python",
   "pygments_lexer": "ipython3",
   "version": "3.9.7"
  }
 },
 "nbformat": 4,
 "nbformat_minor": 5
}
